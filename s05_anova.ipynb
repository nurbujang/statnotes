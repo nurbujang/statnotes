{
 "cells": [
  {
   "cell_type": "markdown",
   "metadata": {},
   "source": [
    "# ANOVA"
   ]
  },
  {
   "cell_type": "code",
   "execution_count": 1,
   "metadata": {},
   "outputs": [],
   "source": [
    "# Numerical arrays.\n",
    "import numpy as np\n",
    "\n",
    "# Plotting.\n",
    "import matplotlib.pyplot as plt\n",
    "\n",
    "# Statistical functions.\n",
    "import scipy.stats as stats\n",
    "\n",
    "# Mathematical functions.\n",
    "import math\n",
    "\n",
    "# Data frames.\n",
    "import pandas as pd"
   ]
  },
  {
   "cell_type": "markdown",
   "metadata": {},
   "source": [
    "## More Samples"
   ]
  },
  {
   "cell_type": "code",
   "execution_count": 2,
   "metadata": {},
   "outputs": [],
   "source": [
    "# First sample.\n",
    "sample_a = np.random.normal(loc=10.0, scale=1.0, size=50)\n",
    "\n",
    "# Second sample.\n",
    "sample_b = np.random.normal(loc=10.0, scale=1.0, size=50)\n",
    "\n",
    "# Third sample.\n",
    "sample_c = np.random.normal(loc=10.0, scale=1.0, size=50)"
   ]
  },
  {
   "cell_type": "code",
   "execution_count": 3,
   "metadata": {},
   "outputs": [
    {
     "data": {
      "image/png": "[encoded data removed]",
      "text/plain": [
       "<Figure size 1000x500 with 1 Axes>"
      ]
     },
     "metadata": {},
     "output_type": "display_data"
    }
   ],
   "source": [
    "# Create histograms.\n",
    "fig, ax = plt.subplots(figsize=(10, 5))\n",
    "\n",
    "# Histogram of the first sample.\n",
    "ax.hist(sample_a, bins=10, alpha=0.5, label='Sample A')\n",
    "\n",
    "# Histogram of the second sample.\n",
    "ax.hist(sample_b, bins=10, alpha=0.5, label='Sample B')\n",
    "\n",
    "# Histogram of the third sample.\n",
    "ax.hist(sample_c, bins=10, alpha=0.5, label='Sample C')\n",
    "\n",
    "# Add a legend.\n",
    "ax.legend();"
   ]
  },
  {
   "cell_type": "code",
   "execution_count": 4,
   "metadata": {},
   "outputs": [
    {
     "data": {
      "text/plain": [
       "(-0.3610881666392647, 0.7188107861822104)"
      ]
     },
     "execution_count": 4,
     "metadata": {},
     "output_type": "execute_result"
    }
   ],
   "source": [
    "# Independent samples t-test on sample_a and sample_b.\n",
    "t_statistic, p_value = stats.ttest_ind(sample_a, sample_b)\n",
    "\n",
    "# Show.\n",
    "t_statistic, p_value"
   ]
  },
  {
   "cell_type": "code",
   "execution_count": 5,
   "metadata": {},
   "outputs": [
    {
     "data": {
      "text/plain": [
       "(0.3610881666392647, 0.7188107861822104)"
      ]
     },
     "execution_count": 5,
     "metadata": {},
     "output_type": "execute_result"
    }
   ],
   "source": [
    "# Independent samples t-test on sample_b and sample_a.\n",
    "t_statistic, p_value = stats.ttest_ind(sample_b, sample_a)\n",
    "\n",
    "# Show.\n",
    "t_statistic, p_value"
   ]
  },
  {
   "cell_type": "code",
   "execution_count": 6,
   "metadata": {},
   "outputs": [
    {
     "data": {
      "text/plain": [
       "(-0.46275001016991, 0.6445694530899261)"
      ]
     },
     "execution_count": 6,
     "metadata": {},
     "output_type": "execute_result"
    }
   ],
   "source": [
    "# Independent samples t-test on sample_a and sample_c.\n",
    "t_statistic, p_value = stats.ttest_ind(sample_a, sample_c)\n",
    "\n",
    "# Show.\n",
    "t_statistic, p_value"
   ]
  },
  {
   "cell_type": "code",
   "execution_count": 7,
   "metadata": {},
   "outputs": [
    {
     "data": {
      "text/plain": [
       "(-0.09557186742322579, 0.9240557667047267)"
      ]
     },
     "execution_count": 7,
     "metadata": {},
     "output_type": "execute_result"
    }
   ],
   "source": [
    "# Independent samples t-test on sample_b and sample_c.\n",
    "t_statistic, p_value = stats.ttest_ind(sample_b, sample_c)\n",
    "\n",
    "# Show.\n",
    "t_statistic, p_value"
   ]
  },
  {
   "cell_type": "markdown",
   "metadata": {},
   "source": [
    "## $n$ Samples"
   ]
  },
  {
   "cell_type": "code",
   "execution_count": 8,
   "metadata": {},
   "outputs": [],
   "source": [
    "# Number of samples.\n",
    "n = 4"
   ]
  },
  {
   "cell_type": "code",
   "execution_count": 9,
   "metadata": {},
   "outputs": [
    {
     "name": "stdout",
     "output_type": "stream",
     "text": [
      "[0, 1, 2, 3]\n"
     ]
    }
   ],
   "source": [
    "# Show the sample labels.\n",
    "print(list(range(4)))"
   ]
  },
  {
   "cell_type": "markdown",
   "metadata": {},
   "source": [
    "For 4 samples, we can perform 6 t-tests:\n",
    "\n",
    "[0, 1]  \n",
    "[0, 2]  \n",
    "[0, 3]  \n",
    "[1, 2]  \n",
    "[1, 3]  \n",
    "[2, 3]  "
   ]
  },
  {
   "cell_type": "code",
   "execution_count": 10,
   "metadata": {},
   "outputs": [
    {
     "data": {
      "text/plain": [
       "6"
      ]
     },
     "execution_count": 10,
     "metadata": {},
     "output_type": "execute_result"
    }
   ],
   "source": [
    "# Number of ways of selecting two samples from n.\n",
    "math.comb(n, 2)"
   ]
  },
  {
   "cell_type": "code",
   "execution_count": 11,
   "metadata": {},
   "outputs": [
    {
     "data": {
      "text/plain": [
       "15"
      ]
     },
     "execution_count": 11,
     "metadata": {},
     "output_type": "execute_result"
    }
   ],
   "source": [
    "# Suppose we had 6 samples.\n",
    "n = 6\n",
    "math.comb(n, 2)"
   ]
  },
  {
   "cell_type": "code",
   "execution_count": 12,
   "metadata": {},
   "outputs": [
    {
     "data": {
      "text/plain": [
       "21"
      ]
     },
     "execution_count": 12,
     "metadata": {},
     "output_type": "execute_result"
    }
   ],
   "source": [
    "# Suppose we had 6 samples.\n",
    "n = 7\n",
    "math.comb(n, 2)"
   ]
  },
  {
   "cell_type": "markdown",
   "metadata": {},
   "source": [
    "## Type I Errors"
   ]
  },
  {
   "cell_type": "code",
   "execution_count": 13,
   "metadata": {},
   "outputs": [],
   "source": [
    "def simulate_ttest(alpha=0.05):\n",
    "    # Geneate a random sample a.\n",
    "    sample_a = np.random.normal(loc=10.0, scale=1.0, size=50)\n",
    "    # Generate similar sample b.\n",
    "    sample_b = np.random.normal(loc=10.0, scale=1.0, size=50)\n",
    "    \n",
    "    # Perform the t-test.\n",
    "    _, p_value = stats.ttest_ind(sample_a, sample_b)\n",
    "    \n",
    "    # Decide whether to reject the null hypothesis.\n",
    "    if p_value < alpha:\n",
    "        return True\n",
    "    else:\n",
    "        return False"
   ]
  },
  {
   "cell_type": "code",
   "execution_count": 14,
   "metadata": {},
   "outputs": [
    {
     "data": {
      "text/plain": [
       "486"
      ]
     },
     "execution_count": 14,
     "metadata": {},
     "output_type": "execute_result"
    }
   ],
   "source": [
    "# Number of rejections.\n",
    "no_rejections = 0\n",
    "\n",
    "# Run several simulations.\n",
    "for _ in range(10000):\n",
    "    # Check if the null hypothesis is rejected.\n",
    "    if simulate_ttest():\n",
    "        # Increment the number of rejections.\n",
    "        no_rejections += 1\n",
    "\n",
    "# Show the number of rejections.\n",
    "no_rejections"
   ]
  },
  {
   "cell_type": "markdown",
   "metadata": {},
   "source": [
    "## ANOVA\n",
    "\n",
    "https://docs.scipy.org/doc/scipy/reference/generated/scipy.stats.f_oneway.html  \n",
    "https://statistics.laerd.com/spss-tutorials/one-way-anova-using-spss-statistics.php  "
   ]
  },
  {
   "cell_type": "code",
   "execution_count": 15,
   "metadata": {},
   "outputs": [],
   "source": [
    "# From Laerd.\n",
    "beginner = np.random.normal(27.2, 3.04777, 10)\n",
    "intermediate = np.random.normal(23.6, 3.30656, 10)\n",
    "advanced = np.random.normal(23.4, 3.23866, 10)"
   ]
  },
  {
   "cell_type": "code",
   "execution_count": 16,
   "metadata": {},
   "outputs": [
    {
     "data": {
      "text/html": [
       "<div>\n",
       "<style scoped>\n",
       "    .dataframe tbody tr th:only-of-type {\n",
       "        vertical-align: middle;\n",
       "    }\n",
       "\n",
       "    .dataframe tbody tr th {\n",
       "        vertical-align: top;\n",
       "    }\n",
       "\n",
       "    .dataframe thead th {\n",
       "        text-align: right;\n",
       "    }\n",
       "</style>\n",
       "<table border=\"1\" class=\"dataframe\">\n",
       "  <thead>\n",
       "    <tr style=\"text-align: right;\">\n",
       "      <th></th>\n",
       "      <th>Beginner</th>\n",
       "      <th>Intermediate</th>\n",
       "      <th>Advanced</th>\n",
       "    </tr>\n",
       "  </thead>\n",
       "  <tbody>\n",
       "    <tr>\n",
       "      <th>0</th>\n",
       "      <td>29.364106</td>\n",
       "      <td>23.783767</td>\n",
       "      <td>20.665922</td>\n",
       "    </tr>\n",
       "    <tr>\n",
       "      <th>1</th>\n",
       "      <td>22.840076</td>\n",
       "      <td>21.190837</td>\n",
       "      <td>21.949563</td>\n",
       "    </tr>\n",
       "    <tr>\n",
       "      <th>2</th>\n",
       "      <td>26.737058</td>\n",
       "      <td>25.925176</td>\n",
       "      <td>19.271362</td>\n",
       "    </tr>\n",
       "    <tr>\n",
       "      <th>3</th>\n",
       "      <td>28.233658</td>\n",
       "      <td>24.385432</td>\n",
       "      <td>24.852847</td>\n",
       "    </tr>\n",
       "    <tr>\n",
       "      <th>4</th>\n",
       "      <td>24.443971</td>\n",
       "      <td>19.847313</td>\n",
       "      <td>24.027018</td>\n",
       "    </tr>\n",
       "    <tr>\n",
       "      <th>5</th>\n",
       "      <td>26.115498</td>\n",
       "      <td>21.933125</td>\n",
       "      <td>22.713361</td>\n",
       "    </tr>\n",
       "    <tr>\n",
       "      <th>6</th>\n",
       "      <td>26.906789</td>\n",
       "      <td>20.741089</td>\n",
       "      <td>24.177880</td>\n",
       "    </tr>\n",
       "    <tr>\n",
       "      <th>7</th>\n",
       "      <td>22.848305</td>\n",
       "      <td>19.336059</td>\n",
       "      <td>28.505218</td>\n",
       "    </tr>\n",
       "    <tr>\n",
       "      <th>8</th>\n",
       "      <td>23.810141</td>\n",
       "      <td>24.524304</td>\n",
       "      <td>26.055279</td>\n",
       "    </tr>\n",
       "    <tr>\n",
       "      <th>9</th>\n",
       "      <td>31.278792</td>\n",
       "      <td>21.262965</td>\n",
       "      <td>26.002867</td>\n",
       "    </tr>\n",
       "  </tbody>\n",
       "</table>\n",
       "</div>"
      ],
      "text/plain": [
       "    Beginner  Intermediate   Advanced\n",
       "0  29.364106     23.783767  20.665922\n",
       "1  22.840076     21.190837  21.949563\n",
       "2  26.737058     25.925176  19.271362\n",
       "3  28.233658     24.385432  24.852847\n",
       "4  24.443971     19.847313  24.027018\n",
       "5  26.115498     21.933125  22.713361\n",
       "6  26.906789     20.741089  24.177880\n",
       "7  22.848305     19.336059  28.505218\n",
       "8  23.810141     24.524304  26.055279\n",
       "9  31.278792     21.262965  26.002867"
      ]
     },
     "execution_count": 16,
     "metadata": {},
     "output_type": "execute_result"
    }
   ],
   "source": [
    "# Create data frame.\n",
    "df = pd.DataFrame({'Beginner': beginner, 'Intermediate': intermediate, 'Advanced': advanced})\n",
    "\n",
    "# Show.\n",
    "df"
   ]
  },
  {
   "cell_type": "code",
   "execution_count": 17,
   "metadata": {},
   "outputs": [
    {
     "data": {
      "text/html": [
       "<div>\n",
       "<style scoped>\n",
       "    .dataframe tbody tr th:only-of-type {\n",
       "        vertical-align: middle;\n",
       "    }\n",
       "\n",
       "    .dataframe tbody tr th {\n",
       "        vertical-align: top;\n",
       "    }\n",
       "\n",
       "    .dataframe thead th {\n",
       "        text-align: right;\n",
       "    }\n",
       "</style>\n",
       "<table border=\"1\" class=\"dataframe\">\n",
       "  <thead>\n",
       "    <tr style=\"text-align: right;\">\n",
       "      <th></th>\n",
       "      <th>Beginner</th>\n",
       "      <th>Intermediate</th>\n",
       "      <th>Advanced</th>\n",
       "    </tr>\n",
       "  </thead>\n",
       "  <tbody>\n",
       "    <tr>\n",
       "      <th>count</th>\n",
       "      <td>10.000000</td>\n",
       "      <td>10.000000</td>\n",
       "      <td>10.000000</td>\n",
       "    </tr>\n",
       "    <tr>\n",
       "      <th>mean</th>\n",
       "      <td>26.257839</td>\n",
       "      <td>22.293007</td>\n",
       "      <td>23.822132</td>\n",
       "    </tr>\n",
       "    <tr>\n",
       "      <th>std</th>\n",
       "      <td>2.828842</td>\n",
       "      <td>2.218875</td>\n",
       "      <td>2.755032</td>\n",
       "    </tr>\n",
       "    <tr>\n",
       "      <th>min</th>\n",
       "      <td>22.840076</td>\n",
       "      <td>19.336059</td>\n",
       "      <td>19.271362</td>\n",
       "    </tr>\n",
       "    <tr>\n",
       "      <th>25%</th>\n",
       "      <td>23.968598</td>\n",
       "      <td>20.853526</td>\n",
       "      <td>22.140512</td>\n",
       "    </tr>\n",
       "    <tr>\n",
       "      <th>50%</th>\n",
       "      <td>26.426278</td>\n",
       "      <td>21.598045</td>\n",
       "      <td>24.102449</td>\n",
       "    </tr>\n",
       "    <tr>\n",
       "      <th>75%</th>\n",
       "      <td>27.901941</td>\n",
       "      <td>24.235016</td>\n",
       "      <td>25.715362</td>\n",
       "    </tr>\n",
       "    <tr>\n",
       "      <th>max</th>\n",
       "      <td>31.278792</td>\n",
       "      <td>25.925176</td>\n",
       "      <td>28.505218</td>\n",
       "    </tr>\n",
       "  </tbody>\n",
       "</table>\n",
       "</div>"
      ],
      "text/plain": [
       "        Beginner  Intermediate   Advanced\n",
       "count  10.000000     10.000000  10.000000\n",
       "mean   26.257839     22.293007  23.822132\n",
       "std     2.828842      2.218875   2.755032\n",
       "min    22.840076     19.336059  19.271362\n",
       "25%    23.968598     20.853526  22.140512\n",
       "50%    26.426278     21.598045  24.102449\n",
       "75%    27.901941     24.235016  25.715362\n",
       "max    31.278792     25.925176  28.505218"
      ]
     },
     "execution_count": 17,
     "metadata": {},
     "output_type": "execute_result"
    }
   ],
   "source": [
    "# Describe.\n",
    "df.describe()"
   ]
  },
  {
   "cell_type": "code",
   "execution_count": 18,
   "metadata": {},
   "outputs": [
    {
     "data": {
      "text/plain": [
       "(5.846862886414976, 0.0077671805184883315)"
      ]
     },
     "execution_count": 18,
     "metadata": {},
     "output_type": "execute_result"
    }
   ],
   "source": [
    "# Perform ANOVA.\n",
    "f_statistic, p_value = stats.f_oneway(df['Beginner'], df['Intermediate'], df['Advanced'])\n",
    "\n",
    "# Show.\n",
    "f_statistic, p_value"
   ]
  },
  {
   "cell_type": "code",
   "execution_count": 19,
   "metadata": {},
   "outputs": [
    {
     "name": "stdout",
     "output_type": "stream",
     "text": [
      "Tukey's HSD Pairwise Group Comparisons (95.0% Confidence Interval)\n",
      "Comparison  Statistic  p-value  Lower CI  Upper CI\n",
      " (0 - 1)      3.965     0.006     1.065     6.865\n",
      " (0 - 2)      2.436     0.112    -0.464     5.335\n",
      " (1 - 0)     -3.965     0.006    -6.865    -1.065\n",
      " (1 - 2)     -1.529     0.403    -4.429     1.371\n",
      " (2 - 0)     -2.436     0.112    -5.335     0.464\n",
      " (2 - 1)      1.529     0.403    -1.371     4.429\n",
      "\n"
     ]
    }
   ],
   "source": [
    "# Tukey's HSD.\n",
    "res = stats.tukey_hsd(df['Beginner'], df['Intermediate'], df['Advanced'])\n",
    "\n",
    "# Show.\n",
    "print(res)"
   ]
  },
  {
   "cell_type": "markdown",
   "metadata": {},
   "source": [
    "## Presenting the Data"
   ]
  },
  {
   "cell_type": "code",
   "execution_count": 20,
   "metadata": {},
   "outputs": [
    {
     "data": {
      "text/plain": [
       "array([24.84627631, 25.1955189 , 26.63177747, 24.63314572, 24.05388844,\n",
       "       28.09380648, 23.56777204, 24.84654641, 31.99014193, 28.7821183 ,\n",
       "       22.68174593, 24.55983617, 26.45519201, 24.41812544, 21.39561774,\n",
       "       27.14711571, 19.72197748, 24.01847114, 20.24136568, 22.78752801,\n",
       "       22.14411984, 21.84080917, 26.01718006, 20.51661848, 19.0289048 ,\n",
       "       18.76102894, 25.07406945, 19.84994588, 26.35748658, 23.91937921])"
      ]
     },
     "execution_count": 20,
     "metadata": {},
     "output_type": "execute_result"
    }
   ],
   "source": [
    "# From Laerd.\n",
    "beginner = np.random.normal(27.2, 3.04777, 10)\n",
    "intermediate = np.random.normal(23.6, 3.30656, 10)\n",
    "advanced = np.random.normal(23.4, 3.23866, 10)\n",
    "\n",
    "# Concatenate arrays.\n",
    "data = np.concatenate([beginner, intermediate, advanced])\n",
    "\n",
    "# Show.\n",
    "data"
   ]
  },
  {
   "cell_type": "code",
   "execution_count": 21,
   "metadata": {},
   "outputs": [
    {
     "data": {
      "text/plain": [
       "['Beginner',\n",
       " 'Beginner',\n",
       " 'Beginner',\n",
       " 'Beginner',\n",
       " 'Beginner',\n",
       " 'Beginner',\n",
       " 'Beginner',\n",
       " 'Beginner',\n",
       " 'Beginner',\n",
       " 'Beginner',\n",
       " 'Intermediate',\n",
       " 'Intermediate',\n",
       " 'Intermediate',\n",
       " 'Intermediate',\n",
       " 'Intermediate',\n",
       " 'Intermediate',\n",
       " 'Intermediate',\n",
       " 'Intermediate',\n",
       " 'Intermediate',\n",
       " 'Intermediate',\n",
       " 'Advanced',\n",
       " 'Advanced',\n",
       " 'Advanced',\n",
       " 'Advanced',\n",
       " 'Advanced',\n",
       " 'Advanced',\n",
       " 'Advanced',\n",
       " 'Advanced',\n",
       " 'Advanced',\n",
       " 'Advanced']"
      ]
     },
     "execution_count": 21,
     "metadata": {},
     "output_type": "execute_result"
    }
   ],
   "source": [
    "# Create the labels.\n",
    "labels = ['Beginner'] * 10 + ['Intermediate'] * 10 + ['Advanced'] * 10\n",
    "\n",
    "# Show.\n",
    "labels"
   ]
  },
  {
   "cell_type": "code",
   "execution_count": 22,
   "metadata": {},
   "outputs": [
    {
     "data": {
      "text/html": [
       "<div>\n",
       "<style scoped>\n",
       "    .dataframe tbody tr th:only-of-type {\n",
       "        vertical-align: middle;\n",
       "    }\n",
       "\n",
       "    .dataframe tbody tr th {\n",
       "        vertical-align: top;\n",
       "    }\n",
       "\n",
       "    .dataframe thead th {\n",
       "        text-align: right;\n",
       "    }\n",
       "</style>\n",
       "<table border=\"1\" class=\"dataframe\">\n",
       "  <thead>\n",
       "    <tr style=\"text-align: right;\">\n",
       "      <th></th>\n",
       "      <th>Course</th>\n",
       "      <th>Time</th>\n",
       "    </tr>\n",
       "  </thead>\n",
       "  <tbody>\n",
       "    <tr>\n",
       "      <th>0</th>\n",
       "      <td>Beginner</td>\n",
       "      <td>24.846276</td>\n",
       "    </tr>\n",
       "    <tr>\n",
       "      <th>1</th>\n",
       "      <td>Beginner</td>\n",
       "      <td>25.195519</td>\n",
       "    </tr>\n",
       "    <tr>\n",
       "      <th>2</th>\n",
       "      <td>Beginner</td>\n",
       "      <td>26.631777</td>\n",
       "    </tr>\n",
       "    <tr>\n",
       "      <th>3</th>\n",
       "      <td>Beginner</td>\n",
       "      <td>24.633146</td>\n",
       "    </tr>\n",
       "    <tr>\n",
       "      <th>4</th>\n",
       "      <td>Beginner</td>\n",
       "      <td>24.053888</td>\n",
       "    </tr>\n",
       "    <tr>\n",
       "      <th>5</th>\n",
       "      <td>Beginner</td>\n",
       "      <td>28.093806</td>\n",
       "    </tr>\n",
       "    <tr>\n",
       "      <th>6</th>\n",
       "      <td>Beginner</td>\n",
       "      <td>23.567772</td>\n",
       "    </tr>\n",
       "    <tr>\n",
       "      <th>7</th>\n",
       "      <td>Beginner</td>\n",
       "      <td>24.846546</td>\n",
       "    </tr>\n",
       "    <tr>\n",
       "      <th>8</th>\n",
       "      <td>Beginner</td>\n",
       "      <td>31.990142</td>\n",
       "    </tr>\n",
       "    <tr>\n",
       "      <th>9</th>\n",
       "      <td>Beginner</td>\n",
       "      <td>28.782118</td>\n",
       "    </tr>\n",
       "    <tr>\n",
       "      <th>10</th>\n",
       "      <td>Intermediate</td>\n",
       "      <td>22.681746</td>\n",
       "    </tr>\n",
       "    <tr>\n",
       "      <th>11</th>\n",
       "      <td>Intermediate</td>\n",
       "      <td>24.559836</td>\n",
       "    </tr>\n",
       "    <tr>\n",
       "      <th>12</th>\n",
       "      <td>Intermediate</td>\n",
       "      <td>26.455192</td>\n",
       "    </tr>\n",
       "    <tr>\n",
       "      <th>13</th>\n",
       "      <td>Intermediate</td>\n",
       "      <td>24.418125</td>\n",
       "    </tr>\n",
       "    <tr>\n",
       "      <th>14</th>\n",
       "      <td>Intermediate</td>\n",
       "      <td>21.395618</td>\n",
       "    </tr>\n",
       "    <tr>\n",
       "      <th>15</th>\n",
       "      <td>Intermediate</td>\n",
       "      <td>27.147116</td>\n",
       "    </tr>\n",
       "    <tr>\n",
       "      <th>16</th>\n",
       "      <td>Intermediate</td>\n",
       "      <td>19.721977</td>\n",
       "    </tr>\n",
       "    <tr>\n",
       "      <th>17</th>\n",
       "      <td>Intermediate</td>\n",
       "      <td>24.018471</td>\n",
       "    </tr>\n",
       "    <tr>\n",
       "      <th>18</th>\n",
       "      <td>Intermediate</td>\n",
       "      <td>20.241366</td>\n",
       "    </tr>\n",
       "    <tr>\n",
       "      <th>19</th>\n",
       "      <td>Intermediate</td>\n",
       "      <td>22.787528</td>\n",
       "    </tr>\n",
       "    <tr>\n",
       "      <th>20</th>\n",
       "      <td>Advanced</td>\n",
       "      <td>22.144120</td>\n",
       "    </tr>\n",
       "    <tr>\n",
       "      <th>21</th>\n",
       "      <td>Advanced</td>\n",
       "      <td>21.840809</td>\n",
       "    </tr>\n",
       "    <tr>\n",
       "      <th>22</th>\n",
       "      <td>Advanced</td>\n",
       "      <td>26.017180</td>\n",
       "    </tr>\n",
       "    <tr>\n",
       "      <th>23</th>\n",
       "      <td>Advanced</td>\n",
       "      <td>20.516618</td>\n",
       "    </tr>\n",
       "    <tr>\n",
       "      <th>24</th>\n",
       "      <td>Advanced</td>\n",
       "      <td>19.028905</td>\n",
       "    </tr>\n",
       "    <tr>\n",
       "      <th>25</th>\n",
       "      <td>Advanced</td>\n",
       "      <td>18.761029</td>\n",
       "    </tr>\n",
       "    <tr>\n",
       "      <th>26</th>\n",
       "      <td>Advanced</td>\n",
       "      <td>25.074069</td>\n",
       "    </tr>\n",
       "    <tr>\n",
       "      <th>27</th>\n",
       "      <td>Advanced</td>\n",
       "      <td>19.849946</td>\n",
       "    </tr>\n",
       "    <tr>\n",
       "      <th>28</th>\n",
       "      <td>Advanced</td>\n",
       "      <td>26.357487</td>\n",
       "    </tr>\n",
       "    <tr>\n",
       "      <th>29</th>\n",
       "      <td>Advanced</td>\n",
       "      <td>23.919379</td>\n",
       "    </tr>\n",
       "  </tbody>\n",
       "</table>\n",
       "</div>"
      ],
      "text/plain": [
       "          Course       Time\n",
       "0       Beginner  24.846276\n",
       "1       Beginner  25.195519\n",
       "2       Beginner  26.631777\n",
       "3       Beginner  24.633146\n",
       "4       Beginner  24.053888\n",
       "5       Beginner  28.093806\n",
       "6       Beginner  23.567772\n",
       "7       Beginner  24.846546\n",
       "8       Beginner  31.990142\n",
       "9       Beginner  28.782118\n",
       "10  Intermediate  22.681746\n",
       "11  Intermediate  24.559836\n",
       "12  Intermediate  26.455192\n",
       "13  Intermediate  24.418125\n",
       "14  Intermediate  21.395618\n",
       "15  Intermediate  27.147116\n",
       "16  Intermediate  19.721977\n",
       "17  Intermediate  24.018471\n",
       "18  Intermediate  20.241366\n",
       "19  Intermediate  22.787528\n",
       "20      Advanced  22.144120\n",
       "21      Advanced  21.840809\n",
       "22      Advanced  26.017180\n",
       "23      Advanced  20.516618\n",
       "24      Advanced  19.028905\n",
       "25      Advanced  18.761029\n",
       "26      Advanced  25.074069\n",
       "27      Advanced  19.849946\n",
       "28      Advanced  26.357487\n",
       "29      Advanced  23.919379"
      ]
     },
     "execution_count": 22,
     "metadata": {},
     "output_type": "execute_result"
    }
   ],
   "source": [
    "# Create data frame.\n",
    "df = pd.DataFrame({'Course': labels, 'Time': data})\n",
    "\n",
    "# Show.\n",
    "df"
   ]
  },
  {
   "cell_type": "code",
   "execution_count": 23,
   "metadata": {},
   "outputs": [
    {
     "data": {
      "text/plain": [
       "(5.871010668177697, 0.00763748008082926)"
      ]
     },
     "execution_count": 23,
     "metadata": {},
     "output_type": "execute_result"
    }
   ],
   "source": [
    "# Pull the groups out.\n",
    "b_times = df[df['Course'] == 'Beginner']['Time']\n",
    "i_times = df[df['Course'] == 'Intermediate']['Time']\n",
    "a_times = df[df['Course'] == 'Advanced']['Time']\n",
    "\n",
    "# Perform ANOVA.\n",
    "f, p = stats.f_oneway(b_times, i_times, a_times)\n",
    "\n",
    "# Show.\n",
    "f, p"
   ]
  },
  {
   "cell_type": "code",
   "execution_count": 24,
   "metadata": {},
   "outputs": [
    {
     "name": "stdout",
     "output_type": "stream",
     "text": [
      "Tukey's HSD Pairwise Group Comparisons (95.0% Confidence Interval)\n",
      "Comparison  Statistic  p-value  Lower CI  Upper CI\n",
      " (0 - 1)      2.921     0.052    -0.023     5.865\n",
      " (0 - 2)      3.913     0.008     0.969     6.857\n",
      " (1 - 0)     -2.921     0.052    -5.865     0.023\n",
      " (1 - 2)      0.992     0.685    -1.952     3.936\n",
      " (2 - 0)     -3.913     0.008    -6.857    -0.969\n",
      " (2 - 1)     -0.992     0.685    -3.936     1.952\n",
      "\n"
     ]
    }
   ],
   "source": [
    "# Tukey's HSD.\n",
    "res = stats.tukey_hsd(b_times, i_times, a_times)\n",
    "\n",
    "# Show.\n",
    "print(res)"
   ]
  },
  {
   "cell_type": "markdown",
   "metadata": {},
   "source": [
    "## End"
   ]
  }
 ],
 "metadata": {
  "kernelspec": {
   "display_name": "base",
   "language": "python",
   "name": "python3"
  },
  "language_info": {
   "codemirror_mode": {
    "name": "ipython",
    "version": 3
   },
   "file_extension": ".py",
   "mimetype": "text/x-python",
   "name": "python",
   "nbconvert_exporter": "python",
   "pygments_lexer": "ipython3",
   "version": "3.12.4"
  }
 },
 "nbformat": 4,
 "nbformat_minor": 2
}
